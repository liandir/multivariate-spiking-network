{
 "cells": [
  {
   "cell_type": "code",
   "execution_count": 28,
   "metadata": {},
   "outputs": [
    {
     "data": {
      "text/html": [
       "\n",
       "    <div class=\"bk-root\">\n",
       "        <a href=\"https://bokeh.org\" target=\"_blank\" class=\"bk-logo bk-logo-small bk-logo-notebook\"></a>\n",
       "        <span id=\"1004\">Loading BokehJS ...</span>\n",
       "    </div>"
      ]
     },
     "metadata": {},
     "output_type": "display_data"
    },
    {
     "data": {
      "application/javascript": "\n(function(root) {\n  function now() {\n    return new Date();\n  }\n\n  const force = true;\n\n  if (typeof root._bokeh_onload_callbacks === \"undefined\" || force === true) {\n    root._bokeh_onload_callbacks = [];\n    root._bokeh_is_loading = undefined;\n  }\n\n  const JS_MIME_TYPE = 'application/javascript';\n  const HTML_MIME_TYPE = 'text/html';\n  const EXEC_MIME_TYPE = 'application/vnd.bokehjs_exec.v0+json';\n  const CLASS_NAME = 'output_bokeh rendered_html';\n\n  /**\n   * Render data to the DOM node\n   */\n  function render(props, node) {\n    const script = document.createElement(\"script\");\n    node.appendChild(script);\n  }\n\n  /**\n   * Handle when an output is cleared or removed\n   */\n  function handleClearOutput(event, handle) {\n    const cell = handle.cell;\n\n    const id = cell.output_area._bokeh_element_id;\n    const server_id = cell.output_area._bokeh_server_id;\n    // Clean up Bokeh references\n    if (id != null && id in Bokeh.index) {\n      Bokeh.index[id].model.document.clear();\n      delete Bokeh.index[id];\n    }\n\n    if (server_id !== undefined) {\n      // Clean up Bokeh references\n      const cmd_clean = \"from bokeh.io.state import curstate; print(curstate().uuid_to_server['\" + server_id + \"'].get_sessions()[0].document.roots[0]._id)\";\n      cell.notebook.kernel.execute(cmd_clean, {\n        iopub: {\n          output: function(msg) {\n            const id = msg.content.text.trim();\n            if (id in Bokeh.index) {\n              Bokeh.index[id].model.document.clear();\n              delete Bokeh.index[id];\n            }\n          }\n        }\n      });\n      // Destroy server and session\n      const cmd_destroy = \"import bokeh.io.notebook as ion; ion.destroy_server('\" + server_id + \"')\";\n      cell.notebook.kernel.execute(cmd_destroy);\n    }\n  }\n\n  /**\n   * Handle when a new output is added\n   */\n  function handleAddOutput(event, handle) {\n    const output_area = handle.output_area;\n    const output = handle.output;\n\n    // limit handleAddOutput to display_data with EXEC_MIME_TYPE content only\n    if ((output.output_type != \"display_data\") || (!Object.prototype.hasOwnProperty.call(output.data, EXEC_MIME_TYPE))) {\n      return\n    }\n\n    const toinsert = output_area.element.find(\".\" + CLASS_NAME.split(' ')[0]);\n\n    if (output.metadata[EXEC_MIME_TYPE][\"id\"] !== undefined) {\n      toinsert[toinsert.length - 1].firstChild.textContent = output.data[JS_MIME_TYPE];\n      // store reference to embed id on output_area\n      output_area._bokeh_element_id = output.metadata[EXEC_MIME_TYPE][\"id\"];\n    }\n    if (output.metadata[EXEC_MIME_TYPE][\"server_id\"] !== undefined) {\n      const bk_div = document.createElement(\"div\");\n      bk_div.innerHTML = output.data[HTML_MIME_TYPE];\n      const script_attrs = bk_div.children[0].attributes;\n      for (let i = 0; i < script_attrs.length; i++) {\n        toinsert[toinsert.length - 1].firstChild.setAttribute(script_attrs[i].name, script_attrs[i].value);\n        toinsert[toinsert.length - 1].firstChild.textContent = bk_div.children[0].textContent\n      }\n      // store reference to server id on output_area\n      output_area._bokeh_server_id = output.metadata[EXEC_MIME_TYPE][\"server_id\"];\n    }\n  }\n\n  function register_renderer(events, OutputArea) {\n\n    function append_mime(data, metadata, element) {\n      // create a DOM node to render to\n      const toinsert = this.create_output_subarea(\n        metadata,\n        CLASS_NAME,\n        EXEC_MIME_TYPE\n      );\n      this.keyboard_manager.register_events(toinsert);\n      // Render to node\n      const props = {data: data, metadata: metadata[EXEC_MIME_TYPE]};\n      render(props, toinsert[toinsert.length - 1]);\n      element.append(toinsert);\n      return toinsert\n    }\n\n    /* Handle when an output is cleared or removed */\n    events.on('clear_output.CodeCell', handleClearOutput);\n    events.on('delete.Cell', handleClearOutput);\n\n    /* Handle when a new output is added */\n    events.on('output_added.OutputArea', handleAddOutput);\n\n    /**\n     * Register the mime type and append_mime function with output_area\n     */\n    OutputArea.prototype.register_mime_type(EXEC_MIME_TYPE, append_mime, {\n      /* Is output safe? */\n      safe: true,\n      /* Index of renderer in `output_area.display_order` */\n      index: 0\n    });\n  }\n\n  // register the mime type if in Jupyter Notebook environment and previously unregistered\n  if (root.Jupyter !== undefined) {\n    const events = require('base/js/events');\n    const OutputArea = require('notebook/js/outputarea').OutputArea;\n\n    if (OutputArea.prototype.mime_types().indexOf(EXEC_MIME_TYPE) == -1) {\n      register_renderer(events, OutputArea);\n    }\n  }\n\n  \n  if (typeof (root._bokeh_timeout) === \"undefined\" || force === true) {\n    root._bokeh_timeout = Date.now() + 5000;\n    root._bokeh_failed_load = false;\n  }\n\n  const NB_LOAD_WARNING = {'data': {'text/html':\n     \"<div style='background-color: #fdd'>\\n\"+\n     \"<p>\\n\"+\n     \"BokehJS does not appear to have successfully loaded. If loading BokehJS from CDN, this \\n\"+\n     \"may be due to a slow or bad network connection. Possible fixes:\\n\"+\n     \"</p>\\n\"+\n     \"<ul>\\n\"+\n     \"<li>re-rerun `output_notebook()` to attempt to load from CDN again, or</li>\\n\"+\n     \"<li>use INLINE resources instead, as so:</li>\\n\"+\n     \"</ul>\\n\"+\n     \"<code>\\n\"+\n     \"from bokeh.resources import INLINE\\n\"+\n     \"output_notebook(resources=INLINE)\\n\"+\n     \"</code>\\n\"+\n     \"</div>\"}};\n\n  function display_loaded() {\n    const el = document.getElementById(\"1004\");\n    if (el != null) {\n      el.textContent = \"BokehJS is loading...\";\n    }\n    if (root.Bokeh !== undefined) {\n      if (el != null) {\n        el.textContent = \"BokehJS \" + root.Bokeh.version + \" successfully loaded.\";\n      }\n    } else if (Date.now() < root._bokeh_timeout) {\n      setTimeout(display_loaded, 100)\n    }\n  }\n\n\n  function run_callbacks() {\n    try {\n      root._bokeh_onload_callbacks.forEach(function(callback) {\n        if (callback != null)\n          callback();\n      });\n    } finally {\n      delete root._bokeh_onload_callbacks\n    }\n    console.debug(\"Bokeh: all callbacks have finished\");\n  }\n\n  function load_libs(css_urls, js_urls, callback) {\n    if (css_urls == null) css_urls = [];\n    if (js_urls == null) js_urls = [];\n\n    root._bokeh_onload_callbacks.push(callback);\n    if (root._bokeh_is_loading > 0) {\n      console.debug(\"Bokeh: BokehJS is being loaded, scheduling callback at\", now());\n      return null;\n    }\n    if (js_urls == null || js_urls.length === 0) {\n      run_callbacks();\n      return null;\n    }\n    console.debug(\"Bokeh: BokehJS not loaded, scheduling load and callback at\", now());\n    root._bokeh_is_loading = css_urls.length + js_urls.length;\n\n    function on_load() {\n      root._bokeh_is_loading--;\n      if (root._bokeh_is_loading === 0) {\n        console.debug(\"Bokeh: all BokehJS libraries/stylesheets loaded\");\n        run_callbacks()\n      }\n    }\n\n    function on_error(url) {\n      console.error(\"failed to load \" + url);\n    }\n\n    for (let i = 0; i < css_urls.length; i++) {\n      const url = css_urls[i];\n      const element = document.createElement(\"link\");\n      element.onload = on_load;\n      element.onerror = on_error.bind(null, url);\n      element.rel = \"stylesheet\";\n      element.type = \"text/css\";\n      element.href = url;\n      console.debug(\"Bokeh: injecting link tag for BokehJS stylesheet: \", url);\n      document.body.appendChild(element);\n    }\n\n    for (let i = 0; i < js_urls.length; i++) {\n      const url = js_urls[i];\n      const element = document.createElement('script');\n      element.onload = on_load;\n      element.onerror = on_error.bind(null, url);\n      element.async = false;\n      element.src = url;\n      console.debug(\"Bokeh: injecting script tag for BokehJS library: \", url);\n      document.head.appendChild(element);\n    }\n  };\n\n  function inject_raw_css(css) {\n    const element = document.createElement(\"style\");\n    element.appendChild(document.createTextNode(css));\n    document.body.appendChild(element);\n  }\n\n  \n  const js_urls = [\"https://cdn.bokeh.org/bokeh/release/bokeh-2.4.1.min.js\", \"https://cdn.bokeh.org/bokeh/release/bokeh-gl-2.4.1.min.js\", \"https://cdn.bokeh.org/bokeh/release/bokeh-widgets-2.4.1.min.js\", \"https://cdn.bokeh.org/bokeh/release/bokeh-tables-2.4.1.min.js\", \"https://cdn.bokeh.org/bokeh/release/bokeh-mathjax-2.4.1.min.js\"];\n  const css_urls = [];\n  \n\n  const inline_js = [\n    function(Bokeh) {\n      Bokeh.set_log_level(\"info\");\n    },\n    function(Bokeh) {\n    \n    \n    }\n  ];\n\n  function run_inline_js() {\n    \n    if (root.Bokeh !== undefined || force === true) {\n      \n    for (let i = 0; i < inline_js.length; i++) {\n      inline_js[i].call(root, root.Bokeh);\n    }\n    if (force === true) {\n        display_loaded();\n      }} else if (Date.now() < root._bokeh_timeout) {\n      setTimeout(run_inline_js, 100);\n    } else if (!root._bokeh_failed_load) {\n      console.log(\"Bokeh: BokehJS failed to load within specified timeout.\");\n      root._bokeh_failed_load = true;\n    } else if (force !== true) {\n      const cell = $(document.getElementById(\"1004\")).parents('.cell').data().cell;\n      cell.output_area.append_execute_result(NB_LOAD_WARNING)\n    }\n\n  }\n\n  if (root._bokeh_is_loading === 0) {\n    console.debug(\"Bokeh: BokehJS loaded, going straight to plotting\");\n    run_inline_js();\n  } else {\n    load_libs(css_urls, js_urls, function() {\n      console.debug(\"Bokeh: BokehJS plotting callback run at\", now());\n      run_inline_js();\n    });\n  }\n}(window));",
      "application/vnd.bokehjs_load.v0+json": ""
     },
     "metadata": {},
     "output_type": "display_data"
    }
   ],
   "source": [
    "import torch as tr\n",
    "import bokeh.plotting as bk\n",
    "bk.output_notebook()"
   ]
  },
  {
   "cell_type": "code",
   "execution_count": 29,
   "metadata": {},
   "outputs": [],
   "source": [
    "kernels = []"
   ]
  },
  {
   "cell_type": "code",
   "execution_count": 30,
   "metadata": {},
   "outputs": [],
   "source": [
    "# rect\n",
    "kernels.append(tr.tensor([\n",
    "    [-1, -1, -1, -1],\n",
    "    [-0.1,-0.1,-0.1,-0.1],\n",
    "    [ 0.1, 0.1, 0.1, 0.1],\n",
    "    [ 1, 1, 1, 1]\n",
    "]))\n",
    "\n",
    "kernels.append(tr.tensor([\n",
    "    [ 1, 1, 1, 1],\n",
    "    [ 0.1, 0.1, 0.1, 0.1],\n",
    "    [-0.1,-0.1,-0.1,-0.1],\n",
    "    [-1, -1, -1, -1]\n",
    "]))\n",
    "\n",
    "kernels.append(tr.tensor([\n",
    "    [ 1, 0.1, -0.1, -1],\n",
    "    [ 1, 0.1, -0.1, -1],\n",
    "    [ 1, 0.1, -0.1, -1],\n",
    "    [ 1, 0.1, -0.1, -1]\n",
    "]))\n",
    "\n",
    "kernels.append(tr.tensor([\n",
    "    [ -1, -0.1, 0.1, 1],\n",
    "    [ -1, -0.1, 0.1, 1],\n",
    "    [ -1, -0.1, 0.1, 1],\n",
    "    [ -1, -0.1, 0.1, 1]\n",
    "]))"
   ]
  },
  {
   "cell_type": "code",
   "execution_count": 31,
   "metadata": {},
   "outputs": [],
   "source": [
    "# dots\n",
    "\n",
    "kernels.append(tr.tensor([\n",
    "    [-1,-1,-1,-1],\n",
    "    [-1, 1, 1,-1],\n",
    "    [-1, 1, 1,-1],\n",
    "    [-1,-1,-1,-1]\n",
    "]))\n",
    "\n",
    "kernels.append(tr.tensor([\n",
    "    [1,1,1,1],\n",
    "    [1,-1,-1,1],\n",
    "    [1,-1,-1,1],\n",
    "    [1,1,1,1]\n",
    "]))\n",
    "\n",
    "kernels.append(tr.tensor([\n",
    "    [0,0,0,0],\n",
    "    [0,-1,-1,0],\n",
    "    [0,-1,-1,0],\n",
    "    [0,0,0,0]\n",
    "]))\n",
    "\n",
    "kernels.append(tr.tensor([\n",
    "    [0,0,0,0],\n",
    "    [0,1,1,0],\n",
    "    [0,1,1,0],\n",
    "    [0,0,0,0]\n",
    "]))"
   ]
  },
  {
   "cell_type": "code",
   "execution_count": 32,
   "metadata": {},
   "outputs": [],
   "source": [
    "# diag\n",
    "kernels.append(tr.tensor([\n",
    "    [1, 0.75, 0.25, 0],\n",
    "    [0.75, 0.25, 0, -0.25],\n",
    "    [0.25, 0, -0.25, -0.75],\n",
    "    [0, -0.25, -0.75, -1]\n",
    "]))\n",
    "\n",
    "kernels.append(tr.tensor([\n",
    "    [0, 0.25, 0.75, 1],\n",
    "    [-0.25, 0, 0.25, 0.75],\n",
    "    [-0.75, -0.25, 0, 0.25],\n",
    "    [-1, -0.75, -0.25, 0]\n",
    "]))\n",
    "\n",
    "kernels.append(tr.tensor([\n",
    "    [-1, -0.75, -0.25, 0],\n",
    "    [-0.75, -0.25, 0, 0.25],\n",
    "    [-0.25, 0, 0.25, 0.75],\n",
    "    [0, 0.25, 0.75, 1]\n",
    "]))\n",
    "\n",
    "kernels.append(tr.tensor([\n",
    "    [0, -0.25, -0.75, -1],\n",
    "    [0.25, 0, -0.25, -0.75],\n",
    "    [0.75, 0.25, 0, -0.25],\n",
    "    [1, 0.75, 0.25, 0]\n",
    "]))"
   ]
  },
  {
   "cell_type": "code",
   "execution_count": 33,
   "metadata": {},
   "outputs": [],
   "source": [
    "# other\n",
    "kernels.append(tr.tensor([\n",
    "    [ -1, -0.25, 0.5, 1],\n",
    "    [-0.25,0.5, 1.0, 0.5],\n",
    "    [ 0.5, 1.0, 0.5, -0.25],\n",
    "    [ 1.0, 0.5,-0.25, -1]\n",
    "]))\n",
    "\n",
    "kernels.append(tr.tensor([\n",
    "    [ 1, 0.5, -0.25, -1],\n",
    "    [0.5,  1, 0.5, -0.25],\n",
    "    [-0.25,0.5, 1, 0.5],\n",
    "    [-1, -0.25, 0.5, 1]\n",
    "]))\n",
    "\n",
    "kernels.append(tr.tensor([\n",
    "    [-0.75,-0.75,-0.75,-0.75],\n",
    "    [ 0.75, 0.75, 0.75, 0.75],\n",
    "    [ 0.75, 0.75, 0.75, 0.75],\n",
    "    [-0.75,-0.75,-0.75,-0.75]\n",
    "]))\n",
    "\n",
    "kernels.append(tr.tensor([\n",
    "    [-0.75, 0.75, 0.75,-0.75],\n",
    "    [-0.75, 0.75, 0.75,-0.75],\n",
    "    [-0.75, 0.75, 0.75,-0.75],\n",
    "    [-0.75, 0.75, 0.75,-0.75]\n",
    "]))"
   ]
  },
  {
   "cell_type": "code",
   "execution_count": 34,
   "metadata": {},
   "outputs": [],
   "source": [
    "kernels = (tr.stack(kernels) + 1) / 2"
   ]
  },
  {
   "cell_type": "code",
   "execution_count": 35,
   "metadata": {},
   "outputs": [
    {
     "data": {
      "text/plain": [
       "tensor(0.)"
      ]
     },
     "execution_count": 35,
     "metadata": {},
     "output_type": "execute_result"
    }
   ],
   "source": [
    "kernels.min()"
   ]
  },
  {
   "cell_type": "code",
   "execution_count": 36,
   "metadata": {},
   "outputs": [
    {
     "data": {
      "text/plain": [
       "tensor(1.)"
      ]
     },
     "execution_count": 36,
     "metadata": {},
     "output_type": "execute_result"
    }
   ],
   "source": [
    "kernels.max()"
   ]
  },
  {
   "cell_type": "code",
   "execution_count": 43,
   "metadata": {},
   "outputs": [
    {
     "data": {
      "text/plain": [
       "torch.Size([16, 4, 4])"
      ]
     },
     "execution_count": 43,
     "metadata": {},
     "output_type": "execute_result"
    }
   ],
   "source": [
    "kernels.size()"
   ]
  },
  {
   "cell_type": "code",
   "execution_count": 50,
   "metadata": {},
   "outputs": [],
   "source": [
    "def imshow(img):\n",
    "    fig = bk.figure(width=400, height=400, background_fill_color=\"whitesmoke\", y_range=(0,4), x_range=(0,4))\n",
    "    fig.image(\n",
    "        image=[img.numpy()],\n",
    "        dw=4,\n",
    "        dh=4,\n",
    "        x=0,\n",
    "        y=0,\n",
    "        # cmap=\"turbo\"\n",
    "    )\n",
    "    fig.axis.visible = False\n",
    "    bk.show(fig)"
   ]
  },
  {
   "cell_type": "code",
   "execution_count": 63,
   "metadata": {},
   "outputs": [
    {
     "data": {
      "text/html": [
       "\n",
       "\n",
       "\n",
       "\n",
       "\n",
       "\n",
       "  <div class=\"bk-root\" id=\"eb8ddb3e-637d-416a-a97e-be73ae6a10c8\" data-root-id=\"4332\"></div>\n"
      ]
     },
     "metadata": {},
     "output_type": "display_data"
    },
    {
     "data": {
      "application/javascript": "(function(root) {\n  function embed_document(root) {\n    \n  const docs_json = {\"4f606cab-cebe-4c5a-9282-cdfe7a18d714\":{\"defs\":[],\"roots\":{\"references\":[{\"attributes\":{\"background_fill_color\":\"whitesmoke\",\"below\":[{\"id\":\"4341\"}],\"center\":[{\"id\":\"4344\"},{\"id\":\"4348\"}],\"height\":400,\"left\":[{\"id\":\"4345\"}],\"renderers\":[{\"id\":\"4373\"}],\"title\":{\"id\":\"4562\"},\"toolbar\":{\"id\":\"4356\"},\"width\":400,\"x_range\":{\"id\":\"4333\"},\"x_scale\":{\"id\":\"4337\"},\"y_range\":{\"id\":\"4335\"},\"y_scale\":{\"id\":\"4339\"}},\"id\":\"4332\",\"subtype\":\"Figure\",\"type\":\"Plot\"},{\"attributes\":{\"coordinates\":null,\"group\":null},\"id\":\"4562\",\"type\":\"Title\"},{\"attributes\":{},\"id\":\"4568\",\"type\":\"BasicTickFormatter\"},{\"attributes\":{},\"id\":\"4570\",\"type\":\"UnionRenderers\"},{\"attributes\":{\"bottom_units\":\"screen\",\"coordinates\":null,\"fill_alpha\":0.5,\"fill_color\":\"lightgrey\",\"group\":null,\"left_units\":\"screen\",\"level\":\"overlay\",\"line_alpha\":1.0,\"line_color\":\"black\",\"line_dash\":[4,4],\"line_width\":2,\"right_units\":\"screen\",\"syncable\":false,\"top_units\":\"screen\"},\"id\":\"4355\",\"type\":\"BoxAnnotation\"},{\"attributes\":{},\"id\":\"4571\",\"type\":\"Selection\"},{\"attributes\":{},\"id\":\"4569\",\"type\":\"AllLabels\"},{\"attributes\":{},\"id\":\"4337\",\"type\":\"LinearScale\"},{\"attributes\":{\"palette\":[\"#000000\",\"#252525\",\"#525252\",\"#737373\",\"#969696\",\"#bdbdbd\",\"#d9d9d9\",\"#f0f0f0\",\"#ffffff\"]},\"id\":\"4365\",\"type\":\"LinearColorMapper\"},{\"attributes\":{},\"id\":\"4566\",\"type\":\"AllLabels\"},{\"attributes\":{\"coordinates\":null,\"formatter\":{\"id\":\"4568\"},\"group\":null,\"major_label_policy\":{\"id\":\"4569\"},\"ticker\":{\"id\":\"4342\"},\"visible\":false},\"id\":\"4341\",\"type\":\"LinearAxis\"},{\"attributes\":{\"end\":4},\"id\":\"4335\",\"type\":\"Range1d\"},{\"attributes\":{\"end\":4},\"id\":\"4333\",\"type\":\"Range1d\"},{\"attributes\":{\"color_mapper\":{\"id\":\"4365\"},\"dh\":{\"value\":4},\"dw\":{\"value\":4},\"image\":{\"field\":\"image\"},\"x\":{\"value\":0},\"y\":{\"value\":0}},\"id\":\"4364\",\"type\":\"Image\"},{\"attributes\":{\"color_mapper\":{\"id\":\"4368\"},\"dh\":{\"value\":4},\"dw\":{\"value\":4},\"global_alpha\":{\"value\":0.1},\"image\":{\"field\":\"image\"},\"x\":{\"value\":0},\"y\":{\"value\":0}},\"id\":\"4367\",\"type\":\"Image\"},{\"attributes\":{\"palette\":[\"#000000\",\"#252525\",\"#525252\",\"#737373\",\"#969696\",\"#bdbdbd\",\"#d9d9d9\",\"#f0f0f0\",\"#ffffff\"]},\"id\":\"4368\",\"type\":\"LinearColorMapper\"},{\"attributes\":{},\"id\":\"4354\",\"type\":\"HelpTool\"},{\"attributes\":{\"color_mapper\":{\"id\":\"4371\"},\"dh\":{\"value\":4},\"dw\":{\"value\":4},\"global_alpha\":{\"value\":0.2},\"image\":{\"field\":\"image\"},\"x\":{\"value\":0},\"y\":{\"value\":0}},\"id\":\"4370\",\"type\":\"Image\"},{\"attributes\":{\"coordinates\":null,\"formatter\":{\"id\":\"4565\"},\"group\":null,\"major_label_policy\":{\"id\":\"4566\"},\"ticker\":{\"id\":\"4346\"},\"visible\":false},\"id\":\"4345\",\"type\":\"LinearAxis\"},{\"attributes\":{},\"id\":\"4565\",\"type\":\"BasicTickFormatter\"},{\"attributes\":{\"axis\":{\"id\":\"4341\"},\"coordinates\":null,\"group\":null,\"ticker\":null},\"id\":\"4344\",\"type\":\"Grid\"},{\"attributes\":{},\"id\":\"4342\",\"type\":\"BasicTicker\"},{\"attributes\":{\"palette\":[\"#000000\",\"#252525\",\"#525252\",\"#737373\",\"#969696\",\"#bdbdbd\",\"#d9d9d9\",\"#f0f0f0\",\"#ffffff\"]},\"id\":\"4371\",\"type\":\"LinearColorMapper\"},{\"attributes\":{},\"id\":\"4339\",\"type\":\"LinearScale\"},{\"attributes\":{\"coordinates\":null,\"data_source\":{\"id\":\"4363\"},\"glyph\":{\"id\":\"4364\"},\"group\":null,\"hover_glyph\":null,\"muted_glyph\":{\"id\":\"4370\"},\"nonselection_glyph\":{\"id\":\"4367\"},\"view\":{\"id\":\"4374\"}},\"id\":\"4373\",\"type\":\"GlyphRenderer\"},{\"attributes\":{\"axis\":{\"id\":\"4345\"},\"coordinates\":null,\"dimension\":1,\"group\":null,\"ticker\":null},\"id\":\"4348\",\"type\":\"Grid\"},{\"attributes\":{\"source\":{\"id\":\"4363\"}},\"id\":\"4374\",\"type\":\"CDSView\"},{\"attributes\":{\"tools\":[{\"id\":\"4349\"},{\"id\":\"4350\"},{\"id\":\"4351\"},{\"id\":\"4352\"},{\"id\":\"4353\"},{\"id\":\"4354\"}]},\"id\":\"4356\",\"type\":\"Toolbar\"},{\"attributes\":{\"data\":{\"image\":[{\"__ndarray__\":\"AACAPwAAQD8AAMA+AAAAAAAAQD8AAIA/AABAPwAAwD4AAMA+AABAPwAAgD8AAEA/AAAAAAAAwD4AAEA/AACAPw==\",\"dtype\":\"float32\",\"order\":\"little\",\"shape\":[4,4]}]},\"selected\":{\"id\":\"4571\"},\"selection_policy\":{\"id\":\"4570\"}},\"id\":\"4363\",\"type\":\"ColumnDataSource\"},{\"attributes\":{},\"id\":\"4349\",\"type\":\"PanTool\"},{\"attributes\":{},\"id\":\"4350\",\"type\":\"WheelZoomTool\"},{\"attributes\":{},\"id\":\"4346\",\"type\":\"BasicTicker\"},{\"attributes\":{\"overlay\":{\"id\":\"4355\"}},\"id\":\"4351\",\"type\":\"BoxZoomTool\"},{\"attributes\":{},\"id\":\"4352\",\"type\":\"SaveTool\"},{\"attributes\":{},\"id\":\"4353\",\"type\":\"ResetTool\"}],\"root_ids\":[\"4332\"]},\"title\":\"Bokeh Application\",\"version\":\"2.4.1\"}};\n  const render_items = [{\"docid\":\"4f606cab-cebe-4c5a-9282-cdfe7a18d714\",\"root_ids\":[\"4332\"],\"roots\":{\"4332\":\"eb8ddb3e-637d-416a-a97e-be73ae6a10c8\"}}];\n  root.Bokeh.embed.embed_items_notebook(docs_json, render_items);\n\n  }\n  if (root.Bokeh !== undefined) {\n    embed_document(root);\n  } else {\n    let attempts = 0;\n    const timer = setInterval(function(root) {\n      if (root.Bokeh !== undefined) {\n        clearInterval(timer);\n        embed_document(root);\n      } else {\n        attempts++;\n        if (attempts > 100) {\n          clearInterval(timer);\n          console.log(\"Bokeh: ERROR: Unable to run BokehJS code because BokehJS library is missing\");\n        }\n      }\n    }, 10, root)\n  }\n})(window);",
      "application/vnd.bokehjs_exec.v0+json": ""
     },
     "metadata": {
      "application/vnd.bokehjs_exec.v0+json": {
       "id": "4332"
      }
     },
     "output_type": "display_data"
    }
   ],
   "source": [
    "imshow(kernels[13])"
   ]
  },
  {
   "cell_type": "code",
   "execution_count": 64,
   "metadata": {},
   "outputs": [],
   "source": [
    "tr.save(kernels, \"kernels.ptt\")"
   ]
  },
  {
   "cell_type": "code",
   "execution_count": null,
   "metadata": {},
   "outputs": [],
   "source": []
  }
 ],
 "metadata": {
  "interpreter": {
   "hash": "e3d029dbb7486e41a46490db64c1f7bc1ad5e0517c79a9678be279e61ae2f947"
  },
  "kernelspec": {
   "display_name": "Python 3.9.5 64-bit ('base': conda)",
   "language": "python",
   "name": "python3"
  },
  "language_info": {
   "codemirror_mode": {
    "name": "ipython",
    "version": 3
   },
   "file_extension": ".py",
   "mimetype": "text/x-python",
   "name": "python",
   "nbconvert_exporter": "python",
   "pygments_lexer": "ipython3",
   "version": "3.9.5"
  },
  "orig_nbformat": 4
 },
 "nbformat": 4,
 "nbformat_minor": 2
}
